{
 "cells": [
  {
   "cell_type": "code",
   "execution_count": 1,
   "metadata": {},
   "outputs": [],
   "source": [
    "import pandas as pd\n",
    "import numpy as np\n",
    "\n",
    "df = pd.read_pickle('dgp_contacts.pkl')\n",
    "df['steps'] = (df.loc[:,'time'] - 1672531200)/60"
   ]
  },
  {
   "cell_type": "code",
   "execution_count": 2,
   "metadata": {},
   "outputs": [],
   "source": [
    "ts = pd.DataFrame(0, index=np.arange(10000), columns=['msg'])\n",
    "tstmp = df.loc[:, ['steps', 'PICO2']]\n",
    "for i in range(len(ts)):\n",
    "    if i in tstmp.steps.values:\n",
    "        ts.loc[i, 'msg'] = 1"
   ]
  },
  {
   "cell_type": "code",
   "execution_count": 3,
   "metadata": {},
   "outputs": [
    {
     "data": {
      "text/html": [
       "<div>\n",
       "<style scoped>\n",
       "    .dataframe tbody tr th:only-of-type {\n",
       "        vertical-align: middle;\n",
       "    }\n",
       "\n",
       "    .dataframe tbody tr th {\n",
       "        vertical-align: top;\n",
       "    }\n",
       "\n",
       "    .dataframe thead th {\n",
       "        text-align: right;\n",
       "    }\n",
       "</style>\n",
       "<table border=\"1\" class=\"dataframe\">\n",
       "  <thead>\n",
       "    <tr style=\"text-align: right;\">\n",
       "      <th></th>\n",
       "      <th>msg</th>\n",
       "    </tr>\n",
       "  </thead>\n",
       "  <tbody>\n",
       "    <tr>\n",
       "      <th>0</th>\n",
       "      <td>0</td>\n",
       "    </tr>\n",
       "    <tr>\n",
       "      <th>1</th>\n",
       "      <td>0</td>\n",
       "    </tr>\n",
       "    <tr>\n",
       "      <th>2</th>\n",
       "      <td>0</td>\n",
       "    </tr>\n",
       "    <tr>\n",
       "      <th>3</th>\n",
       "      <td>0</td>\n",
       "    </tr>\n",
       "    <tr>\n",
       "      <th>4</th>\n",
       "      <td>0</td>\n",
       "    </tr>\n",
       "    <tr>\n",
       "      <th>...</th>\n",
       "      <td>...</td>\n",
       "    </tr>\n",
       "    <tr>\n",
       "      <th>9995</th>\n",
       "      <td>0</td>\n",
       "    </tr>\n",
       "    <tr>\n",
       "      <th>9996</th>\n",
       "      <td>0</td>\n",
       "    </tr>\n",
       "    <tr>\n",
       "      <th>9997</th>\n",
       "      <td>0</td>\n",
       "    </tr>\n",
       "    <tr>\n",
       "      <th>9998</th>\n",
       "      <td>0</td>\n",
       "    </tr>\n",
       "    <tr>\n",
       "      <th>9999</th>\n",
       "      <td>0</td>\n",
       "    </tr>\n",
       "  </tbody>\n",
       "</table>\n",
       "<p>10000 rows × 1 columns</p>\n",
       "</div>"
      ],
      "text/plain": [
       "      msg\n",
       "0       0\n",
       "1       0\n",
       "2       0\n",
       "3       0\n",
       "4       0\n",
       "...   ...\n",
       "9995    0\n",
       "9996    0\n",
       "9997    0\n",
       "9998    0\n",
       "9999    0\n",
       "\n",
       "[10000 rows x 1 columns]"
      ]
     },
     "execution_count": 3,
     "metadata": {},
     "output_type": "execute_result"
    }
   ],
   "source": [
    "ts"
   ]
  },
  {
   "cell_type": "code",
   "execution_count": 4,
   "metadata": {},
   "outputs": [
    {
     "data": {
      "text/plain": [
       "<AxesSubplot:xlabel='Lag', ylabel='Autocorrelation'>"
      ]
     },
     "execution_count": 4,
     "metadata": {},
     "output_type": "execute_result"
    },
    {
     "data": {
      "image/png": "[encoded data removed]",
      "text/plain": [
       "<Figure size 432x288 with 1 Axes>"
      ]
     },
     "metadata": {
      "needs_background": "light"
     },
     "output_type": "display_data"
    }
   ],
   "source": [
    "pd.plotting.autocorrelation_plot(ts)"
   ]
  },
  {
   "cell_type": "code",
   "execution_count": 14,
   "metadata": {},
   "outputs": [
    {
     "data": {
      "text/plain": [
       "(array([ 1.        , -0.06259885, -0.06679172, -0.07158478, -0.07711697,\n",
       "        -0.08357371, -0.0912081 , -0.10037489, -0.11158724, -0.1256162 ,\n",
       "        -0.14367604,  0.46727648, -0.05222253, -0.05509323, -0.0582987 ,\n",
       "        -0.06190105, -0.06597882, -0.07063268, -0.07599395, -0.08223707,\n",
       "        -0.08959904, -0.09841009,  0.80226182, -0.01151105, -0.01155757,\n",
       "        -0.0116054 , -0.01165456, -0.01170505, -0.0117569 , -0.0118101 ,\n",
       "        -0.01186469, -0.01192067, -0.01197805,  0.2200852 , -0.00850766,\n",
       "        -0.00846794, -0.00842793, -0.00838759, -0.00834689, -0.00830577,\n",
       "        -0.0082642 ]),\n",
       " array([[ 1.        ,  1.        ],\n",
       "        [-0.08219849, -0.04299921],\n",
       "        [-0.08639136, -0.04719208],\n",
       "        [-0.09118442, -0.05198514],\n",
       "        [-0.09671661, -0.05751733],\n",
       "        [-0.10317335, -0.06397407],\n",
       "        [-0.11080774, -0.07160846],\n",
       "        [-0.11997453, -0.08077525],\n",
       "        [-0.13118688, -0.0919876 ],\n",
       "        [-0.14521584, -0.10601656],\n",
       "        [-0.16327568, -0.1240764 ],\n",
       "        [ 0.44767684,  0.48687612],\n",
       "        [-0.07182216, -0.03262289],\n",
       "        [-0.07469287, -0.03549359],\n",
       "        [-0.07789834, -0.03869906],\n",
       "        [-0.08150069, -0.04230141],\n",
       "        [-0.08557846, -0.04637918],\n",
       "        [-0.09023232, -0.05103304],\n",
       "        [-0.09559359, -0.05639431],\n",
       "        [-0.10183671, -0.06263743],\n",
       "        [-0.10919868, -0.0699994 ],\n",
       "        [-0.11800973, -0.07881045],\n",
       "        [ 0.78266218,  0.82186146],\n",
       "        [-0.03111069,  0.00808859],\n",
       "        [-0.03115721,  0.00804207],\n",
       "        [-0.03120504,  0.00799424],\n",
       "        [-0.0312542 ,  0.00794508],\n",
       "        [-0.03130469,  0.00789459],\n",
       "        [-0.03135654,  0.00784274],\n",
       "        [-0.03140974,  0.00778954],\n",
       "        [-0.03146433,  0.00773495],\n",
       "        [-0.03152031,  0.00767897],\n",
       "        [-0.03157769,  0.00762159],\n",
       "        [ 0.20048556,  0.23968484],\n",
       "        [-0.0281073 ,  0.01109198],\n",
       "        [-0.02806758,  0.0111317 ],\n",
       "        [-0.02802757,  0.01117171],\n",
       "        [-0.02798723,  0.01121205],\n",
       "        [-0.02794653,  0.01125275],\n",
       "        [-0.02790541,  0.01129387],\n",
       "        [-0.02786384,  0.01133544]]))"
      ]
     },
     "execution_count": 14,
     "metadata": {},
     "output_type": "execute_result"
    }
   ],
   "source": [
    "import statsmodels.tsa.stattools as stm\n",
    "\n",
    "stm.pacf(ts, alpha=0.05)\n",
    "\n"
   ]
  },
  {
   "cell_type": "code",
   "execution_count": 17,
   "metadata": {},
   "outputs": [
    {
     "name": "stderr",
     "output_type": "stream",
     "text": [
      "c:\\Users\\romeo\\Qsync\\Codes\\UNIBS\\pyenv_RF\\lib\\site-packages\\statsmodels\\graphics\\tsaplots.py:348: FutureWarning: The default method 'yw' can produce PACF values outside of the [-1,1] interval. After 0.13, the default will change tounadjusted Yule-Walker ('ywm'). You can use this method now by setting method='ywm'.\n",
      "  warnings.warn(\n"
     ]
    },
    {
     "data": {
      "image/png": "[encoded data removed]",
      "text/plain": [
       "<Figure size 432x288 with 1 Axes>"
      ]
     },
     "execution_count": 17,
     "metadata": {},
     "output_type": "execute_result"
    },
    {
     "data": {
      "image/png": "[encoded data removed]",
      "text/plain": [
       "<Figure size 432x288 with 1 Axes>"
      ]
     },
     "metadata": {
      "needs_background": "light"
     },
     "output_type": "display_data"
    }
   ],
   "source": [
    "import statsmodels.graphics.tsaplots as splt\n",
    "\n",
    "splt.plot_pacf(ts, lags = 10,alpha=0.05)"
   ]
  },
  {
   "cell_type": "code",
   "execution_count": null,
   "metadata": {},
   "outputs": [],
   "source": []
  }
 ],
 "metadata": {
  "kernelspec": {
   "display_name": "Python 3.9.7 ('pyenv_RF')",
   "language": "python",
   "name": "python3"
  },
  "language_info": {
   "codemirror_mode": {
    "name": "ipython",
    "version": 3
   },
   "file_extension": ".py",
   "mimetype": "text/x-python",
   "name": "python",
   "nbconvert_exporter": "python",
   "pygments_lexer": "ipython3",
   "version": "3.9.7"
  },
  "orig_nbformat": 4,
  "vscode": {
   "interpreter": {
    "hash": "bcb06b1afb8f91ee188f66d98a72af40cfff5008deee8b1ee3db1efb7df0ddac"
   }
  }
 },
 "nbformat": 4,
 "nbformat_minor": 2
}
